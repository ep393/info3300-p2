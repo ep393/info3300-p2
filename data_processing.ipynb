{
 "cells": [
  {
   "cell_type": "code",
   "execution_count": 1,
   "id": "f5747a5d-179b-47cc-af93-77fe319d9451",
   "metadata": {
    "tags": []
   },
   "outputs": [
    {
     "name": "stdout",
     "output_type": "stream",
     "text": [
      "2906327\n",
      "2826655\n"
     ]
    }
   ],
   "source": [
    "import pandas as pd \n",
    "df = pd.read_csv('city_temperature.csv', low_memory=False)\n",
    "\n",
    "df = df.drop(['Day', 'State'], axis=1)\n",
    "\n",
    "# Replace 'US' with 'United States of America' in the 'Country' column\n",
    "df['Country'] = df['Country'].replace('US', 'United States of America')\n",
    "\n",
    "print(len(df))\n",
    "\n",
    "df = df[df['AvgTemperature'] != -99]\n",
    "\n",
    "print(len(df))\n",
    "\n",
    "monthly_avg_temp = df.groupby(['Region', 'Country', 'City', 'Month', 'Year'])['AvgTemperature'].mean().round(2).reset_index(name='MonthlyAvgTemp')\n",
    "\n",
    "monthly_avg_temp['YearMonth'] = monthly_avg_temp['Year'].astype(str) + '-' + monthly_avg_temp['Month'].astype(str).str.pad(2, fillchar='0')\n",
    "\n",
    "# Drop the separate 'Year' and 'Month' columns\n",
    "monthly_avg_temp = monthly_avg_temp.drop(['Year', 'Month'], axis=1)\n",
    "\n",
    "# Reorder the columns to have 'YearMonth' after 'City'\n",
    "monthly_avg_temp = monthly_avg_temp[['Region', 'Country', 'City', 'YearMonth', 'MonthlyAvgTemp']]\n",
    "\n",
    "# Sort the DataFrame by 'City' and then by 'YearMonth'\n",
    "monthly_avg_temp.sort_values(by=['City', 'YearMonth'], inplace=True)"
   ]
  },
  {
   "cell_type": "code",
   "execution_count": 2,
   "id": "3d161d01-d893-4976-a221-bc0292b79a9e",
   "metadata": {
    "tags": []
   },
   "outputs": [
    {
     "name": "stdout",
     "output_type": "stream",
     "text": [
      "      Region      Country     City YearMonth  MonthlyAvgTemp\n",
      "2936  Africa  Ivory Coast  Abidjan   1995-01           79.92\n",
      "2962  Africa  Ivory Coast  Abidjan   1995-02           82.61\n",
      "2988  Africa  Ivory Coast  Abidjan   1995-03           82.55\n",
      "3014  Africa  Ivory Coast  Abidjan   1995-04           83.32\n",
      "3040  Africa  Ivory Coast  Abidjan   1995-05           82.40\n"
     ]
    }
   ],
   "source": [
    "print(monthly_avg_temp.head())"
   ]
  },
  {
   "cell_type": "code",
   "execution_count": 3,
   "id": "e8ea769e-40cb-406f-85a7-af8cef14eee4",
   "metadata": {
    "tags": []
   },
   "outputs": [],
   "source": [
    "monthly_avg_temp.to_csv('monthly_city_temperature.csv', index=False)"
   ]
  },
  {
   "cell_type": "code",
   "execution_count": 6,
   "id": "a0284127-541a-4910-b5ee-21b76a9de371",
   "metadata": {},
   "outputs": [
    {
     "name": "stdout",
     "output_type": "stream",
     "text": [
      "     Region      Country     City  Year  YearlyAvgTemp\n",
      "261  Africa  Ivory Coast  Abidjan  1995          80.58\n",
      "262  Africa  Ivory Coast  Abidjan  1996          80.51\n",
      "263  Africa  Ivory Coast  Abidjan  1997          80.28\n",
      "264  Africa  Ivory Coast  Abidjan  1998          81.11\n",
      "265  Africa  Ivory Coast  Abidjan  1999          80.57\n"
     ]
    }
   ],
   "source": [
    "yearly_avg_temp = df.groupby(['Region', 'Country', 'City', 'Year'])['AvgTemperature'].mean().round(2).reset_index(name='YearlyAvgTemp')\n",
    "\n",
    "# Sort the DataFrame by 'City' and then by 'Year'\n",
    "yearly_avg_temp.sort_values(by=['City', 'Year'], inplace=True)\n",
    "\n",
    "yearly_avg_temp = yearly_avg_temp[yearly_avg_temp['Year'] != 2020]\n",
    "\n",
    "print(yearly_avg_temp.head())"
   ]
  },
  {
   "cell_type": "code",
   "execution_count": 7,
   "id": "02454c2c-2801-4f8c-9bc7-af4b041d2635",
   "metadata": {
    "tags": []
   },
   "outputs": [],
   "source": [
    "yearly_avg_temp.to_csv('yearly_city_temperature.csv', index=False)"
   ]
  },
  {
   "cell_type": "code",
   "execution_count": null,
   "id": "bcd1b3c8-2ca1-4a9a-8b22-2061ed71b2f6",
   "metadata": {},
   "outputs": [],
   "source": []
  }
 ],
 "metadata": {
  "kernelspec": {
   "display_name": "Python 3 (ipykernel)",
   "language": "python",
   "name": "python3"
  },
  "language_info": {
   "codemirror_mode": {
    "name": "ipython",
    "version": 3
   },
   "file_extension": ".py",
   "mimetype": "text/x-python",
   "name": "python",
   "nbconvert_exporter": "python",
   "pygments_lexer": "ipython3",
   "version": "3.11.4"
  }
 },
 "nbformat": 4,
 "nbformat_minor": 5
}
